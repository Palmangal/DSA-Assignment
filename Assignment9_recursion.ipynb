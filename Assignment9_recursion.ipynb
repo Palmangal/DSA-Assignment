{
 "cells": [
  {
   "cell_type": "markdown",
   "id": "1a9855fa-19f2-4b02-b5c7-1cdc729f66fa",
   "metadata": {},
   "source": [
    "<aside>\n",
    "💡 **Question 1**\n",
    "\n",
    "Given an integer `n`, return *`true` if it is a power of two. Otherwise, return `false`*.\n",
    "\n",
    "An integer `n` is a power of two, if there exists an integer `x` such that `n == 2x`.\n",
    "\n",
    "**Example 1:**\n",
    "Input: n = 1 \n",
    "\n",
    "Output: true\n",
    "\n",
    "**Example 2:**\n",
    "Input: n = 16 \n",
    "\n",
    "Output: true\n",
    "\n",
    "**Example 3:**\n",
    "Input: n = 3 \n",
    "\n",
    "Output: false\n",
    "\n",
    "</aside>"
   ]
  },
  {
   "cell_type": "code",
   "execution_count": 4,
   "id": "2c68442b-6207-472b-9c01-a16b2c51284e",
   "metadata": {},
   "outputs": [],
   "source": [
    "def check_power_of_2(num):\n",
    "    while(num>1):\n",
    "        if num%2 !=0:\n",
    "            return False\n",
    "        \n",
    "        num=num//2\n",
    "        \n",
    "    return True  "
   ]
  },
  {
   "cell_type": "code",
   "execution_count": 5,
   "id": "712cc003-32fa-4a8f-a0fe-c18d0ea9550c",
   "metadata": {},
   "outputs": [
    {
     "data": {
      "text/plain": [
       "True"
      ]
     },
     "execution_count": 5,
     "metadata": {},
     "output_type": "execute_result"
    }
   ],
   "source": [
    "num=1024\n",
    "check_power_of_2(num)"
   ]
  },
  {
   "cell_type": "code",
   "execution_count": null,
   "id": "accd690c-4a80-4b47-9035-bdfd43287fde",
   "metadata": {},
   "outputs": [],
   "source": []
  },
  {
   "cell_type": "markdown",
   "id": "17e5fb51-a854-4371-99c7-c4c56ab4051b",
   "metadata": {},
   "source": [
    "<aside>\n",
    "💡 **Question 2**\n",
    "\n",
    "Given a number n, find the sum of the first natural numbers.\n",
    "\n",
    "**Example 1:**\n",
    "\n",
    "Input: n = 3 \n",
    "\n",
    "Output: 6\n",
    "\n",
    "**Example 2:**\n",
    "\n",
    "Input  : 5 \n",
    "\n",
    "Output : 15\n",
    "\n",
    "</aside>"
   ]
  },
  {
   "cell_type": "code",
   "execution_count": 12,
   "id": "ff0eadda-fd93-4155-8992-8c3510df38ef",
   "metadata": {},
   "outputs": [],
   "source": [
    "def sum_of_natural(num):\n",
    "    if num <=0:\n",
    "        return None\n",
    "    else :\n",
    "        sum1= int((num*(num+1))/2)\n",
    "    return sum1"
   ]
  },
  {
   "cell_type": "code",
   "execution_count": 13,
   "id": "a4996222-9628-4489-9711-bc10334e0f75",
   "metadata": {},
   "outputs": [
    {
     "data": {
      "text/plain": [
       "15"
      ]
     },
     "execution_count": 13,
     "metadata": {},
     "output_type": "execute_result"
    }
   ],
   "source": [
    "sum_of_natural(5)"
   ]
  },
  {
   "cell_type": "code",
   "execution_count": null,
   "id": "47b73c5a-2df1-4f0a-a0fe-73655545157a",
   "metadata": {},
   "outputs": [],
   "source": [
    "<aside>\n",
    "💡 **Question 3**\n",
    "\n",
    "****Given a positive integer, N. Find the factorial of N. \n",
    "\n",
    "**Example 1:**\n",
    "\n",
    "Input: N = 5 \n",
    "\n",
    "Output: 120\n",
    "\n",
    "**Example 2:**\n",
    "\n",
    "Input: N = 4\n",
    "\n",
    "Output: 24\n",
    "\n",
    "</aside>"
   ]
  },
  {
   "cell_type": "code",
   "execution_count": 1,
   "id": "19fb5ced-c4a4-4e62-a098-2126d700b25e",
   "metadata": {},
   "outputs": [],
   "source": [
    "def factorial(n):\n",
    "    if n<0:\n",
    "        return None\n",
    "    elif n==1 & n==0:\n",
    "        return 1\n",
    "    else:\n",
    "        return n*factorial(n-1)\n",
    "        "
   ]
  },
  {
   "cell_type": "code",
   "execution_count": 2,
   "id": "562626e1-7061-4d53-8dca-c04e07cdbcee",
   "metadata": {},
   "outputs": [
    {
     "data": {
      "text/plain": [
       "720"
      ]
     },
     "execution_count": 2,
     "metadata": {},
     "output_type": "execute_result"
    }
   ],
   "source": [
    "factorial(6)"
   ]
  },
  {
   "cell_type": "code",
   "execution_count": null,
   "id": "2dbe3b77-3910-468c-9850-1f46ef8e90d4",
   "metadata": {},
   "outputs": [],
   "source": [
    "<aside>\n",
    "💡 **Question 4**\n",
    "\n",
    "Given a number N and a power P, the task is to find the exponent of this number raised to the given power, i.e. N^P.\n",
    "\n",
    "**Example 1 :** \n",
    "\n",
    "Input: N = 5, P = 2\n",
    "\n",
    "Output: 25\n",
    "\n",
    "**Example 2 :**\n",
    "Input: N = 2, P = 5\n",
    "\n",
    "Output: 32\n",
    "\n",
    "</aside>"
   ]
  },
  {
   "cell_type": "code",
   "execution_count": 14,
   "id": "87dbfb29-b9fb-4e50-874d-59a3f8cbcb82",
   "metadata": {},
   "outputs": [],
   "source": [
    "def raised_power(n,k):\n",
    "    if k == 0:\n",
    "        return 1\n",
    "    else:\n",
    "        pro =1\n",
    "        while(k>0):\n",
    "            pro = pro*n\n",
    "            k = k-1\n",
    "    return pro        \n",
    "    "
   ]
  },
  {
   "cell_type": "code",
   "execution_count": 15,
   "id": "7918d9c8-b0fe-4342-aa58-221ebca6816f",
   "metadata": {},
   "outputs": [
    {
     "data": {
      "text/plain": [
       "32"
      ]
     },
     "execution_count": 15,
     "metadata": {},
     "output_type": "execute_result"
    }
   ],
   "source": [
    "raised_power(2,5)"
   ]
  },
  {
   "cell_type": "code",
   "execution_count": null,
   "id": "a68a2c4b-2fef-4eaa-81ab-2d39fbb3c372",
   "metadata": {},
   "outputs": [],
   "source": [
    "<aside>\n",
    "💡 **Question 5**\n",
    "\n",
    "Given an array of integers **arr**, the task is to find maximum element of that array using recursion.\n",
    "\n",
    "**Example 1:**\n",
    "\n",
    "Input: arr = {1, 4, 3, -5, -4, 8, 6};\n",
    "Output: 8\n",
    "\n",
    "**Example 2:**\n",
    "\n",
    "Input: arr = {1, 4, 45, 6, 10, -8};\n",
    "Output: 45\n",
    "\n",
    "</aside>"
   ]
  },
  {
   "cell_type": "code",
   "execution_count": 16,
   "id": "87a43804-f33d-485d-a1fd-eed6e094104d",
   "metadata": {},
   "outputs": [],
   "source": [
    "def max_ele(lst):\n",
    "    if len(lst)==1:\n",
    "        return lst\n",
    "    max_num = lst[0]\n",
    "    for num in lst:\n",
    "        if num > max_num:\n",
    "            max_num = num\n",
    "            \n",
    "    return max_num       "
   ]
  },
  {
   "cell_type": "code",
   "execution_count": 17,
   "id": "16cfb55f-c63f-4eb3-a1cd-37029d721579",
   "metadata": {},
   "outputs": [
    {
     "data": {
      "text/plain": [
       "8"
      ]
     },
     "execution_count": 17,
     "metadata": {},
     "output_type": "execute_result"
    }
   ],
   "source": [
    "lst = [1, 4, 3, -5, -4, 8, 6]\n",
    "max_ele(lst)"
   ]
  },
  {
   "cell_type": "code",
   "execution_count": 18,
   "id": "683137a7-7c1d-4797-8e26-9b206b1916a7",
   "metadata": {},
   "outputs": [
    {
     "data": {
      "text/plain": [
       "45"
      ]
     },
     "execution_count": 18,
     "metadata": {},
     "output_type": "execute_result"
    }
   ],
   "source": [
    "lst1=[1, 4, 45, 6, 10, -8]\n",
    "max_ele(lst1)"
   ]
  },
  {
   "cell_type": "code",
   "execution_count": 19,
   "id": "b634b348-f789-4028-9208-71fa0787e18c",
   "metadata": {},
   "outputs": [
    {
     "data": {
      "text/plain": [
       "45"
      ]
     },
     "execution_count": 19,
     "metadata": {},
     "output_type": "execute_result"
    }
   ],
   "source": [
    "max([1, 4, 45, 6, 10, -8])"
   ]
  },
  {
   "cell_type": "code",
   "execution_count": null,
   "id": "a214bd1c-e62e-49bb-8426-dbeda4b033ce",
   "metadata": {},
   "outputs": [],
   "source": [
    "<aside>\n",
    "💡 **Question 6**\n",
    "\n",
    "Given first term (a), common difference (d) and a integer N of the Arithmetic Progression series, the task is to find Nth term of the series.\n",
    "\n",
    "**Example 1:**\n",
    "\n",
    "Input : a = 2 d = 1 N = 5\n",
    "Output : 6\n",
    "The 5th term of the series is : 6\n",
    "\n",
    "**Example 2:**\n",
    "\n",
    "Input : a = 5 d = 2 N = 10\n",
    "Output : 23\n",
    "The 10th term of the series is : 23\n",
    "\n",
    "</aside>"
   ]
  },
  {
   "cell_type": "code",
   "execution_count": 25,
   "id": "f477623a-3b07-4a94-b2a6-11e7b9d588d9",
   "metadata": {},
   "outputs": [],
   "source": [
    "def nth_term(a,d,n):\n",
    "    if d==0:\n",
    "        return a\n",
    "    \n",
    "    nthterm = a+(n-1)*d\n",
    "    return nthterm"
   ]
  },
  {
   "cell_type": "code",
   "execution_count": 26,
   "id": "8424db3c-f972-45e2-ba50-bd73fbeca6d7",
   "metadata": {},
   "outputs": [
    {
     "data": {
      "text/plain": [
       "23"
      ]
     },
     "execution_count": 26,
     "metadata": {},
     "output_type": "execute_result"
    }
   ],
   "source": [
    "nth_term(5,2,10)"
   ]
  },
  {
   "cell_type": "code",
   "execution_count": null,
   "id": "e222623c-ba69-4a76-8f50-23b287ba6244",
   "metadata": {},
   "outputs": [],
   "source": []
  },
  {
   "cell_type": "code",
   "execution_count": null,
   "id": "048ae9f6-7c51-4afb-ba36-f04422238b48",
   "metadata": {},
   "outputs": [],
   "source": []
  },
  {
   "cell_type": "code",
   "execution_count": null,
   "id": "1366d9bb-21f3-46a8-be97-b4fa12a800eb",
   "metadata": {},
   "outputs": [],
   "source": [
    "<aside>\n",
    "💡 **Question 7**\n",
    "\n",
    "Given a string S, the task is to write a program to print all permutations of a given string.\n",
    "\n",
    "**Example 1:**\n",
    "\n",
    "***Input:***\n",
    "\n",
    "*S = “ABC”*\n",
    "\n",
    "***Output:***\n",
    "\n",
    "*“ABC”, “ACB”, “BAC”, “BCA”, “CBA”, “CAB”*\n",
    "\n",
    "**Example 2:**\n",
    "\n",
    "***Input:***\n",
    "\n",
    "*S = “XY”*\n",
    "\n",
    "***Output:***\n",
    "\n",
    "*“XY”, “YX”*\n",
    "\n",
    "</aside>\n",
    "\n",
    "<aside>\n"
   ]
  },
  {
   "cell_type": "code",
   "execution_count": null,
   "id": "ddb096f8-fec2-4f99-bcb5-35e5d3821c6d",
   "metadata": {},
   "outputs": [],
   "source": []
  },
  {
   "cell_type": "code",
   "execution_count": null,
   "id": "d195a49e-b35e-406c-9e5a-05f0564a6b5e",
   "metadata": {},
   "outputs": [],
   "source": []
  },
  {
   "cell_type": "code",
   "execution_count": null,
   "id": "be7ac2a9-a67b-457a-9679-86f274c6a7a3",
   "metadata": {},
   "outputs": [],
   "source": []
  },
  {
   "cell_type": "code",
   "execution_count": null,
   "id": "d02e022f-eaf2-4761-91d6-e4a30a4801eb",
   "metadata": {},
   "outputs": [],
   "source": [
    "**Question 8**\n",
    "\n",
    "Given an array, find a product of all array elements.\n",
    "\n",
    "**Example 1:**\n",
    "\n",
    "Input  : arr[] = {1, 2, 3, 4, 5}\n",
    "Output : 120\n",
    "**Example 2:**\n",
    "\n",
    "Input  : arr[] = {1, 6, 3}\n",
    "Output : 18\n",
    "\n",
    "</aside>"
   ]
  },
  {
   "cell_type": "code",
   "execution_count": 21,
   "id": "2cc90c6d-740c-4839-8abb-c08cfd094d67",
   "metadata": {},
   "outputs": [],
   "source": [
    "def pro_mul(lst):\n",
    "    mul = 1\n",
    "    for ele in lst:\n",
    "        mul *= ele\n",
    "            \n",
    "            \n",
    "    return mul        "
   ]
  },
  {
   "cell_type": "code",
   "execution_count": 22,
   "id": "2c237e76-a381-4f38-aa97-1c9c2ac8185c",
   "metadata": {},
   "outputs": [
    {
     "data": {
      "text/plain": [
       "120"
      ]
     },
     "execution_count": 22,
     "metadata": {},
     "output_type": "execute_result"
    }
   ],
   "source": [
    "lst=[1, 2, 3, 4, 5]\n",
    "pro_mul(lst)"
   ]
  },
  {
   "cell_type": "code",
   "execution_count": null,
   "id": "25b599f2-6415-417d-a040-6c7b2d7dae7d",
   "metadata": {},
   "outputs": [],
   "source": []
  }
 ],
 "metadata": {
  "kernelspec": {
   "display_name": "Python 3 (ipykernel)",
   "language": "python",
   "name": "python3"
  },
  "language_info": {
   "codemirror_mode": {
    "name": "ipython",
    "version": 3
   },
   "file_extension": ".py",
   "mimetype": "text/x-python",
   "name": "python",
   "nbconvert_exporter": "python",
   "pygments_lexer": "ipython3",
   "version": "3.10.6"
  }
 },
 "nbformat": 4,
 "nbformat_minor": 5
}
