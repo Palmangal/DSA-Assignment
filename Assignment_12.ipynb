{
 "cells": [
  {
   "cell_type": "markdown",
   "id": "5a8bbfc5-4336-4a28-b2e4-e12eb7327477",
   "metadata": {},
   "source": [
    "Given a singly linked list, delete **middle** of the linked list. For example, if given linked list is 1->2->**3**->4->5 then linked list should be modified to 1->2->4->5.If there are **even** nodes, then there would be **two middle** nodes, we need to delete the second middle element. For example, if given linked list is 1->2->3->4->5->6 then it should be modified to 1->2->3->5->6.If the input linked list is NULL or has 1 node, then it should return NULL\n",
    "\n",
    "**Example 1:**"
   ]
  },
  {
   "cell_type": "code",
   "execution_count": 3,
   "id": "923ae9dd-15bb-463b-84bb-6c054551b5e5",
   "metadata": {},
   "outputs": [],
   "source": [
    "def remove_middle_term(lst):\n",
    "    n = len(lst)\n",
    "    if n <=1 :\n",
    "        return None\n",
    "    elif n%2 != 0:\n",
    "        lst.remove(lst[n//2])\n",
    "        return lst\n",
    "    else:\n",
    "        lst.remove(lst[n//2])\n",
    "        return lst\n",
    "        \n",
    "    \n",
    "    "
   ]
  },
  {
   "cell_type": "code",
   "execution_count": 4,
   "id": "96a3ba7a-7335-49d6-a5a6-b3573f1c1dac",
   "metadata": {},
   "outputs": [
    {
     "data": {
      "text/plain": [
       "[1, 2, 4, 5]"
      ]
     },
     "execution_count": 4,
     "metadata": {},
     "output_type": "execute_result"
    }
   ],
   "source": [
    "lst=[1,2,3,4,5]\n",
    "remove_middle_term(lst)"
   ]
  },
  {
   "cell_type": "code",
   "execution_count": 5,
   "id": "a919c00c-2a9f-4da9-a822-09cf2a01e47e",
   "metadata": {},
   "outputs": [
    {
     "data": {
      "text/plain": [
       "[1, 2, 3, 5, 6]"
      ]
     },
     "execution_count": 5,
     "metadata": {},
     "output_type": "execute_result"
    }
   ],
   "source": [
    "lst=[1,2,3,4,5,6]\n",
    "remove_middle_term(lst)"
   ]
  },
  {
   "cell_type": "code",
   "execution_count": null,
   "id": "f53ff0bb-32d8-4b90-81eb-fcc094a88bc8",
   "metadata": {},
   "outputs": [],
   "source": []
  },
  {
   "cell_type": "code",
   "execution_count": null,
   "id": "c0e64d56-780d-44c0-8ee4-1a438aa11e4f",
   "metadata": {},
   "outputs": [],
   "source": [
    "<aside>\n",
    "💡 **Question 2**\n",
    "\n",
    "Given a linked list of **N** nodes. The task is to check if the linked list has a loop. Linked list can contain self loop.\n",
    "\n",
    "</aside>"
   ]
  },
  {
   "cell_type": "code",
   "execution_count": 1,
   "id": "695e2465-6c5b-4518-8d5b-0f21c3c09769",
   "metadata": {},
   "outputs": [],
   "source": [
    "class Node:\n",
    "    def __init__(self, data):\n",
    "        self.data = data\n",
    "        self.next = None\n",
    "\n",
    "def detectLoop(head):\n",
    "    slow = head\n",
    "    fast = head\n",
    "\n",
    "    while fast is not None and fast.next is not None:\n",
    "        slow = slow.next\n",
    "        fast = fast.next.next\n",
    "\n",
    "        if slow == fast:\n",
    "            return True\n",
    "\n",
    "    return False\n"
   ]
  },
  {
   "cell_type": "code",
   "execution_count": 2,
   "id": "bcaafe1d-6a05-480a-8302-c3af3ce495f4",
   "metadata": {},
   "outputs": [
    {
     "name": "stdout",
     "output_type": "stream",
     "text": [
      "Linked list has a loop: True\n"
     ]
    }
   ],
   "source": [
    "# Create a linked list with a loop\n",
    "head = Node(1)\n",
    "node2 = Node(2)\n",
    "node3 = Node(3)\n",
    "node4 = Node(4)\n",
    "\n",
    "head.next = node2\n",
    "node2.next = node3\n",
    "node3.next = node4\n",
    "node4.next = node2  # Creating a loop by pointing the last node to node2\n",
    "\n",
    "# Check if the linked list has a loop\n",
    "hasLoop = detectLoop(head)\n",
    "print(\"Linked list has a loop:\", hasLoop)\n"
   ]
  },
  {
   "cell_type": "code",
   "execution_count": null,
   "id": "69f432bd-4a6f-4632-9381-012012e7b2e6",
   "metadata": {},
   "outputs": [],
   "source": []
  },
  {
   "cell_type": "code",
   "execution_count": null,
   "id": "c39de53c-ac32-4afd-a53a-ee6da0d66ef8",
   "metadata": {},
   "outputs": [],
   "source": []
  },
  {
   "cell_type": "markdown",
   "id": "5963c919-db94-4f81-b616-34b9043a8e40",
   "metadata": {},
   "source": [
    "<aside>\n",
    "💡 **Question 3**\n",
    "\n",
    "Given a linked list consisting of **L** nodes and given a number **N**. The task is to find the **N**th node from the end of the linked list.\n",
    "\n",
    "</aside>"
   ]
  },
  {
   "cell_type": "code",
   "execution_count": 3,
   "id": "6700393e-093f-4547-8cb8-cf351cee6183",
   "metadata": {},
   "outputs": [],
   "source": [
    "class Node:\n",
    "    def __init__(self, data):\n",
    "        self.data = data\n",
    "        self.next = None\n",
    "\n",
    "def getNthFromEnd(head, N):\n",
    "    main_ptr = head\n",
    "    ref_ptr = head\n",
    "\n",
    "    # Move the ref_ptr N nodes ahead\n",
    "    for _ in range(N):\n",
    "        if ref_ptr is None:\n",
    "            return None  # N is greater than the number of nodes in the list\n",
    "        ref_ptr = ref_ptr.next\n",
    "\n",
    "    # Move both pointers together until ref_ptr reaches the end\n",
    "    while ref_ptr is not None:\n",
    "        main_ptr = main_ptr.next\n",
    "        ref_ptr = ref_ptr.next\n",
    "\n",
    "    # At this point, main_ptr is pointing to the Nth node from the end\n",
    "    if main_ptr is not None:\n",
    "        return main_ptr.data\n",
    "    else:\n",
    "        return None  # N is greater than the number of nodes in the list\n",
    "\n"
   ]
  },
  {
   "cell_type": "code",
   "execution_count": 4,
   "id": "bd64050b-6e2f-42db-814b-341dec04f511",
   "metadata": {},
   "outputs": [
    {
     "name": "stdout",
     "output_type": "stream",
     "text": [
      "The 2th node from the end is: 4\n"
     ]
    }
   ],
   "source": [
    "# Create a linked list: 1 -> 2 -> 3 -> 4 -> 5 -> None\n",
    "head = Node(1)\n",
    "node2 = Node(2)\n",
    "node3 = Node(3)\n",
    "node4 = Node(4)\n",
    "node5 = Node(5)\n",
    "\n",
    "head.next = node2\n",
    "node2.next = node3\n",
    "node3.next = node4\n",
    "node4.next = node5\n",
    "\n",
    "# Find the 2nd node from the end\n",
    "N = 2\n",
    "result = getNthFromEnd(head, N)\n",
    "if result is not None:\n",
    "    print(f\"The {N}th node from the end is: {result}\")\n",
    "else:\n",
    "    print(\"Invalid value of N or empty linked list.\")\n"
   ]
  },
  {
   "cell_type": "code",
   "execution_count": null,
   "id": "2774854a-34f4-4b81-b84b-7684fdd1669c",
   "metadata": {},
   "outputs": [],
   "source": []
  },
  {
   "cell_type": "markdown",
   "id": "100eaf50-00f0-4fdb-810e-937c08389804",
   "metadata": {},
   "source": [
    "<aside>\n",
    "💡 **Question 4**\n",
    "\n",
    "Given a singly linked list of characters, write a function that returns true if the given list is a palindrome, else false.\n",
    "\n",
    "</aside>"
   ]
  },
  {
   "cell_type": "code",
   "execution_count": 5,
   "id": "912a2a58-c694-482e-86a3-d22dfd47ffa8",
   "metadata": {},
   "outputs": [],
   "source": [
    "class Node:\n",
    "    def __init__(self, data):\n",
    "        self.data = data\n",
    "        self.next = None\n",
    "\n",
    "def isPalindrome(head):\n",
    "    stack = []\n",
    "    current = head\n",
    "\n",
    "    # Traverse the linked list and store characters in the stack\n",
    "    while current is not None:\n",
    "        stack.append(current.data)\n",
    "        current = current.next\n",
    "\n",
    "    # Traverse the linked list again and compare characters with the stack\n",
    "    current = head\n",
    "    while current is not None:\n",
    "        if current.data != stack.pop():\n",
    "            return False\n",
    "        current = current.next\n",
    "\n",
    "    # If the stack is empty at the end, it is a palindrome\n",
    "    return True\n"
   ]
  },
  {
   "cell_type": "code",
   "execution_count": 6,
   "id": "cde3c617-36c9-4a3d-92e2-cd9e5f49d1b5",
   "metadata": {},
   "outputs": [
    {
     "name": "stdout",
     "output_type": "stream",
     "text": [
      "Linked list is a palindrome: True\n"
     ]
    }
   ],
   "source": [
    "# Create a linked list: 'r' -> 'a' -> 'd' -> 'a' -> 'r' -> None\n",
    "head = Node('r')\n",
    "node2 = Node('a')\n",
    "node3 = Node('d')\n",
    "node4 = Node('a')\n",
    "node5 = Node('r')\n",
    "\n",
    "head.next = node2\n",
    "node2.next = node3\n",
    "node3.next = node4\n",
    "node4.next = node5\n",
    "\n",
    "# Check if the linked list is a palindrome\n",
    "isPal = isPalindrome(head)\n",
    "print(\"Linked list is a palindrome:\", isPal)\n"
   ]
  },
  {
   "cell_type": "code",
   "execution_count": null,
   "id": "125ba8b5-b55c-4a62-b6bf-6a1731241d12",
   "metadata": {},
   "outputs": [],
   "source": []
  },
  {
   "cell_type": "code",
   "execution_count": null,
   "id": "f5b92e5c-c840-4811-8bf0-e7e1491d620b",
   "metadata": {},
   "outputs": [],
   "source": [
    "<aside>\n",
    "💡 **Question 5**\n",
    "\n",
    "Given a linked list of **N** nodes such that it may contain a loop.\n",
    "\n",
    "A loop here means that the last node of the link list is connected to the node at position X(1-based index). If the link list does not have any loop, X=0.\n",
    "\n",
    "Remove the loop from the linked list, if it is present, i.e. unlink the last node which is forming the loop.\n",
    "\n",
    "</aside>"
   ]
  },
  {
   "cell_type": "code",
   "execution_count": 7,
   "id": "3ad01a45-c66f-401b-9273-9639462b39af",
   "metadata": {},
   "outputs": [],
   "source": [
    "class Node:\n",
    "    def __init__(self, data):\n",
    "        self.data = data\n",
    "        self.next = None\n",
    "\n",
    "def detectAndRemoveLoop(head):\n",
    "    slow = head\n",
    "    fast = head\n",
    "\n",
    "    # Detect the loop\n",
    "    while fast is not None and fast.next is not None:\n",
    "        slow = slow.next\n",
    "        fast = fast.next.next\n",
    "        if slow == fast:\n",
    "            break\n",
    "\n",
    "    # If a loop is present, remove it\n",
    "    if slow == fast:\n",
    "        slow = head\n",
    "        while slow.next != fast.next:\n",
    "            slow = slow.next\n",
    "            fast = fast.next\n",
    "        fast.next = None\n",
    "\n",
    "    return head\n"
   ]
  },
  {
   "cell_type": "code",
   "execution_count": 8,
   "id": "24c1a31d-e395-4ff7-9c6f-2f8b2a7fe735",
   "metadata": {},
   "outputs": [
    {
     "name": "stdout",
     "output_type": "stream",
     "text": [
      "Loop still present in the linked list.\n"
     ]
    }
   ],
   "source": [
    "# Create a linked list with a loop: 1 -> 2 -> 3 -> 4 -> 5 -> 3\n",
    "head = Node(1)\n",
    "node2 = Node(2)\n",
    "node3 = Node(3)\n",
    "node4 = Node(4)\n",
    "node5 = Node(5)\n",
    "\n",
    "head.next = node2\n",
    "node2.next = node3\n",
    "node3.next = node4\n",
    "node4.next = node5\n",
    "node5.next = node3  # Creating a loop by pointing the last node to node3\n",
    "\n",
    "# Remove the loop from the linked list\n",
    "head = detectAndRemoveLoop(head)\n",
    "\n",
    "# Check if the loop has been removed\n",
    "loopPresent = False\n",
    "current = head\n",
    "while current is not None:\n",
    "    if current.next == None:\n",
    "        loopPresent = True\n",
    "        break\n",
    "    current = current.next\n",
    "\n",
    "if loopPresent:\n",
    "    print(\"Loop still present in the linked list.\")\n",
    "else:\n",
    "    print(\"Loop successfully removed from the linked list.\")\n"
   ]
  },
  {
   "cell_type": "code",
   "execution_count": null,
   "id": "97560190-3d1b-4727-8c1e-c0f3bbc11ad8",
   "metadata": {},
   "outputs": [],
   "source": []
  },
  {
   "cell_type": "markdown",
   "id": "25487f76-d1b1-4621-802b-d31f55e6a63c",
   "metadata": {},
   "source": [
    "6.Given a linked list and two integers M and N. Traverse the linked list such that you retain M nodes then delete next N nodes, continue the same till end of the linked list."
   ]
  },
  {
   "cell_type": "code",
   "execution_count": 9,
   "id": "e9ec1471-6f23-4a57-a176-2f5df51c2bf9",
   "metadata": {},
   "outputs": [],
   "source": [
    "class Node:\n",
    "    def __init__(self, data):\n",
    "        self.data = data\n",
    "        self.next = None\n",
    "\n",
    "def skipMdeleteN(head, M, N):\n",
    "    current = head\n",
    "\n",
    "    while current is not None:\n",
    "        # Skip M - 1 nodes\n",
    "        for _ in range(M - 1):\n",
    "            if current is None:\n",
    "                return head\n",
    "            current = current.next\n",
    "\n",
    "        if current is None:\n",
    "            return head\n",
    "\n",
    "        # Move M nodes ahead and keep track of the previous node\n",
    "        previous = current\n",
    "        current = current.next\n",
    "\n",
    "        # Delete N nodes\n",
    "        for _ in range(N):\n",
    "            if current is None:\n",
    "                break\n",
    "            next_node = current.next\n",
    "            current = next_node\n",
    "\n",
    "        # Adjust the next pointer of the previous node\n",
    "        previous.next = current\n",
    "\n",
    "    return head\n"
   ]
  },
  {
   "cell_type": "code",
   "execution_count": 10,
   "id": "e6b41189-4683-4d3d-a6fd-cbb0fe63cc65",
   "metadata": {},
   "outputs": [
    {
     "name": "stdout",
     "output_type": "stream",
     "text": [
      "1 -> 2 -> 5 -> 6 -> None\n"
     ]
    }
   ],
   "source": [
    "# Create a linked list: 1 -> 2 -> 3 -> 4 -> 5 -> 6 -> 7 -> None\n",
    "head = Node(1)\n",
    "node2 = Node(2)\n",
    "node3 = Node(3)\n",
    "node4 = Node(4)\n",
    "node5 = Node(5)\n",
    "node6 = Node(6)\n",
    "node7 = Node(7)\n",
    "\n",
    "head.next = node2\n",
    "node2.next = node3\n",
    "node3.next = node4\n",
    "node4.next = node5\n",
    "node5.next = node6\n",
    "node6.next = node7\n",
    "\n",
    "# Define values for M and N\n",
    "M = 2\n",
    "N = 2\n",
    "\n",
    "# Skip M nodes, delete N nodes, and repeat\n",
    "head = skipMdeleteN(head, M, N)\n",
    "\n",
    "# Print the modified linked list\n",
    "current = head\n",
    "while current is not None:\n",
    "    print(current.data, end=\" -> \")\n",
    "    current = current.next\n",
    "print(\"None\")\n"
   ]
  },
  {
   "cell_type": "code",
   "execution_count": null,
   "id": "8cbb308e-7336-4526-85c8-ffabb2f24d29",
   "metadata": {},
   "outputs": [],
   "source": []
  },
  {
   "cell_type": "markdown",
   "id": "c5b9d80e-ca23-4451-984e-8e6f63ee4337",
   "metadata": {},
   "source": [
    "<aside>\n",
    "💡 **Question 7**\n",
    "\n",
    "Given two linked lists, insert nodes of second list into first list at alternate positions of first list.\n",
    "For example, if first list is 5->7->17->13->11 and second is 12->10->2->4->6, the first list should become 5->12->7->10->17->2->13->4->11->6 and second list should become empty. The nodes of second list should only be inserted when there are positions available. For example, if the first list is 1->2->3 and second list is 4->5->6->7->8, then first list should become 1->4->2->5->3->6 and second list to 7->8.\n",
    "\n",
    "Use of extra space is not allowed (Not allowed to create additional nodes), i.e., insertion must be done in-place. Expected time complexity is O(n) where n is number of nodes in first list.\n",
    "\n",
    "</aside>"
   ]
  },
  {
   "cell_type": "code",
   "execution_count": 11,
   "id": "c220f142-a61f-4908-a917-16aa67d2ac7e",
   "metadata": {},
   "outputs": [],
   "source": [
    "class Node:\n",
    "    def __init__(self, data):\n",
    "        self.data = data\n",
    "        self.next = None\n",
    "\n",
    "def mergeAlternate(first_head, second_head):\n",
    "    if first_head is None:\n",
    "        return second_head\n",
    "\n",
    "    first_curr = first_head\n",
    "    second_curr = second_head\n",
    "\n",
    "    while first_curr is not None and second_curr is not None:\n",
    "        first_next = first_curr.next\n",
    "        second_next = second_curr.next\n",
    "\n",
    "        # Make second_curr the next node of first_curr\n",
    "        first_curr.next = second_curr\n",
    "        second_curr.next = first_next\n",
    "\n",
    "        # Move first_curr and second_curr to their next nodes\n",
    "        first_curr = first_next\n",
    "        second_curr = second_next\n",
    "\n",
    "    # Attach remaining nodes of the second list, if any, to the end of the first list\n",
    "    if second_curr is not None:\n",
    "        first_curr.next = second_curr\n",
    "\n",
    "    return first_head\n"
   ]
  },
  {
   "cell_type": "code",
   "execution_count": 12,
   "id": "07f89c01-20da-4934-88bf-256fa5b32b4f",
   "metadata": {},
   "outputs": [
    {
     "name": "stdout",
     "output_type": "stream",
     "text": [
      "5 -> 12 -> 7 -> 10 -> 17 -> 2 -> 13 -> 4 -> 11 -> 6 -> None\n",
      "12 -> 7 -> 10 -> 17 -> 2 -> 13 -> 4 -> 11 -> 6 -> None\n"
     ]
    }
   ],
   "source": [
    "# Create the first linked list: 5 -> 7 -> 17 -> 13 -> 11\n",
    "first_head = Node(5)\n",
    "node2 = Node(7)\n",
    "node3 = Node(17)\n",
    "node4 = Node(13)\n",
    "node5 = Node(11)\n",
    "\n",
    "first_head.next = node2\n",
    "node2.next = node3\n",
    "node3.next = node4\n",
    "node4.next = node5\n",
    "\n",
    "# Create the second linked list: 12 -> 10 -> 2 -> 4 -> 6\n",
    "second_head = Node(12)\n",
    "node6 = Node(10)\n",
    "node7 = Node(2)\n",
    "node8 = Node(4)\n",
    "node9 = Node(6)\n",
    "\n",
    "second_head.next = node6\n",
    "node6.next = node7\n",
    "node7.next = node8\n",
    "node8.next = node9\n",
    "\n",
    "# Merge the second list into the first list at alternate positions\n",
    "first_head = mergeAlternate(first_head, second_head)\n",
    "\n",
    "# Print the modified first list\n",
    "current = first_head\n",
    "while current is not None:\n",
    "    print(current.data, end=\" -> \")\n",
    "    current = current.next\n",
    "print(\"None\")\n",
    "\n",
    "# Print the second list (should be empty)\n",
    "current = second_head\n",
    "while current is not None:\n",
    "    print(current.data, end=\" -> \")\n",
    "    current = current.next\n",
    "print(\"None\")\n"
   ]
  },
  {
   "cell_type": "code",
   "execution_count": null,
   "id": "6f49c520-5eda-4670-8d2e-efffad357434",
   "metadata": {},
   "outputs": [],
   "source": []
  },
  {
   "cell_type": "code",
   "execution_count": null,
   "id": "9049e396-a6bd-4bfd-866d-40be69b824ce",
   "metadata": {},
   "outputs": [],
   "source": []
  },
  {
   "cell_type": "markdown",
   "id": "946a0d55-9035-4fc5-ae71-403d8545ef90",
   "metadata": {},
   "source": [
    "<aside>\n",
    "💡 **Question 8**\n",
    "\n",
    "Given a singly linked list, find if the linked list is [circular](https://www.geeksforgeeks.org/circular-linked-list/amp/) or not.\n",
    "\n",
    "> A linked list is called circular if it is not NULL-terminated and all nodes are connected in the form of a cycle. Below is an example of a circular linked list.\n",
    "> \n",
    "</aside>"
   ]
  },
  {
   "cell_type": "code",
   "execution_count": 13,
   "id": "41b6f479-a7e1-451c-80f9-600421d2144c",
   "metadata": {},
   "outputs": [],
   "source": [
    "class Node:\n",
    "    def __init__(self, data):\n",
    "        self.data = data\n",
    "        self.next = None\n",
    "\n",
    "def isCircular(head):\n",
    "    if head is None:\n",
    "        return False\n",
    "\n",
    "    slow = head\n",
    "    fast = head.next\n",
    "\n",
    "    while fast is not None and fast.next is not None:\n",
    "        if slow == fast:\n",
    "            return True\n",
    "\n",
    "        slow = slow.next\n",
    "        fast = fast.next.next\n",
    "\n",
    "    return False\n"
   ]
  },
  {
   "cell_type": "code",
   "execution_count": 14,
   "id": "e60d500f-2c6e-42c2-8f9d-afa3528eeb3b",
   "metadata": {},
   "outputs": [
    {
     "name": "stdout",
     "output_type": "stream",
     "text": [
      "Linked list is circular: True\n"
     ]
    }
   ],
   "source": [
    "# Create a circular linked list: 1 -> 2 -> 3 -> 4 -> 5 -> 2\n",
    "head = Node(1)\n",
    "node2 = Node(2)\n",
    "node3 = Node(3)\n",
    "node4 = Node(4)\n",
    "node5 = Node(5)\n",
    "\n",
    "head.next = node2\n",
    "node2.next = node3\n",
    "node3.next = node4\n",
    "node4.next = node5\n",
    "node5.next = node2  # Creating a loop by pointing the last node to node2\n",
    "\n",
    "# Check if the linked list is circular\n",
    "isCircularList = isCircular(head)\n",
    "print(\"Linked list is circular:\", isCircularList)\n"
   ]
  },
  {
   "cell_type": "code",
   "execution_count": null,
   "id": "986089a6-ab37-4c7b-be4a-508cdf534d15",
   "metadata": {},
   "outputs": [],
   "source": []
  }
 ],
 "metadata": {
  "kernelspec": {
   "display_name": "Python 3 (ipykernel)",
   "language": "python",
   "name": "python3"
  },
  "language_info": {
   "codemirror_mode": {
    "name": "ipython",
    "version": 3
   },
   "file_extension": ".py",
   "mimetype": "text/x-python",
   "name": "python",
   "nbconvert_exporter": "python",
   "pygments_lexer": "ipython3",
   "version": "3.10.6"
  }
 },
 "nbformat": 4,
 "nbformat_minor": 5
}
